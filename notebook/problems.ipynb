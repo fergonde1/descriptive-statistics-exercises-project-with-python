{
    "cells": [
        {
            "cell_type": "markdown",
            "id": "ac622319",
            "metadata": {},
            "source": [
                "# Descriptive statistics problems"
            ]
        },
        {
            "cell_type": "markdown",
            "id": "aa8993e4",
            "metadata": {},
            "source": [
                "### Exercise 1"
            ]
        },
        {
            "cell_type": "markdown",
            "id": "5e0ab0d5",
            "metadata": {},
            "source": [
                "We will use Numpy to obtain information to describe statistically.\n",
                "\n",
                "- Generate an array of 100 elements following a normal distribution.\n",
                "- Generate an array of 100 elements following a chi-square distribution with 3 degrees of freedom.\n",
                "- Calculate the main metrics and statistical measures that best describe the two vectors."
            ]
        },
        {
            "cell_type": "code",
            "execution_count": 11,
            "id": "34720ab6",
            "metadata": {},
            "outputs": [
                {
                    "name": "stdout",
                    "output_type": "stream",
                    "text": [
                        "Media: 0.7274730476496594\n",
                        "Median: 0.6128662597790584\n",
                        "Mode: -1.0488174879466894\n",
                        "Range: 9.047892263342131\n",
                        "Varianza: 3.5212259748293677\n",
                        "Desviación estándar: 1.87649299887566\n",
                        "Asimetría: 0.440790635007302\n",
                        "Curtosis: -0.29180478380238295\n",
                        "Media: 3.096489419853615\n",
                        "Median: 2.326137089638336\n",
                        "Mode: 1.6018814682455358\n",
                        "Range: 13.754340881873015\n",
                        "Varianza: 5.882043371472\n",
                        "Desviación estándar: 2.4252924300941525\n",
                        "Asimetría: 1.4846681231014334\n",
                        "Curtosis: 2.9781115296227023\n"
                    ]
                },
                {
                    "data": {
                        "image/png": "[encoded data removed]",
                        "text/plain": [
                            "<Figure size 640x480 with 2 Axes>"
                        ]
                    },
                    "metadata": {},
                    "output_type": "display_data"
                }
            ],
            "source": [
                "import numpy as np\n",
                "import statistics as stats\n",
                "from scipy.stats import skew, kurtosis\n",
                "import matplotlib.pyplot as plt\n",
                "\n",
                "normal = np.random.normal(1,2,100)\n",
                "\n",
                "chisquare = np.random.chisquare(3,100)\n",
                "\n",
                "mean = np.mean(normal)\n",
                "median = np.median(normal)\n",
                "mode = stats.mode(normal)\n",
                "range = max(normal) - min(normal)\n",
                "variance = np.var(normal)\n",
                "std = np.std(normal)\n",
                "skewness = skew(normal)\n",
                "kurt = kurtosis(normal)\n",
                "\n",
                "print(f\"Media: {mean}\")\n",
                "print(f\"Median: {median}\")\n",
                "print(f\"Mode: {mode}\")\n",
                "print(f\"Range: {range}\")\n",
                "print(f\"Varianza: {variance}\")\n",
                "print(f\"Desviación estándar: {std}\")\n",
                "print(f\"Asimetría: {skewness}\")\n",
                "print(f\"Curtosis: {kurt}\")\n",
                "\n",
                "plt.subplot(1, 2, 1)\n",
                "_ = plt.hist(normal, bins='auto')\n",
                "\n",
                "mean = np.mean(chisquare)\n",
                "median = np.median(chisquare)\n",
                "mode = stats.mode(chisquare)\n",
                "range = max(chisquare) - min(chisquare)\n",
                "variance = np.var(chisquare)\n",
                "std = np.std(chisquare)\n",
                "skewness = skew(chisquare)\n",
                "kurt = kurtosis(chisquare)\n",
                "\n",
                "print(f\"Media: {mean}\")\n",
                "print(f\"Median: {median}\")\n",
                "print(f\"Mode: {mode}\")\n",
                "print(f\"Range: {range}\")\n",
                "print(f\"Varianza: {variance}\")\n",
                "print(f\"Desviación estándar: {std}\")\n",
                "print(f\"Asimetría: {skewness}\")\n",
                "print(f\"Curtosis: {kurt}\")\n",
                "\n",
                "plt.subplot(1, 2, 2)\n",
                "_ = plt.hist(chisquare, bins='auto', color='lightcoral')"
            ]
        },
        {
            "cell_type": "markdown",
            "id": "46c70c3d",
            "metadata": {},
            "source": [
                "### Exercise 2\n",
                "\n",
                "Write a Python program to calculate the standard deviation of the following data:\n",
                "\n",
                "```py\n",
                "data = [4, 2, 5, 8, 6]\n",
                "```"
            ]
        },
        {
            "cell_type": "code",
            "execution_count": 1,
            "id": "d590308e",
            "metadata": {},
            "outputs": [
                {
                    "name": "stdout",
                    "output_type": "stream",
                    "text": [
                        "2.0\n"
                    ]
                }
            ],
            "source": [
                "import math\n",
                "\n",
                "xs = [4, 2, 5, 8, 6]    # values (must be floats!)\n",
                "\n",
                "def estandardev(xs):\n",
                "    mean = sum(xs) / len(xs)   # mean\n",
                "    var  = sum(pow(x-mean,2) for x in xs) / len(xs)  # variance\n",
                "    std  = math.sqrt(var)  # standard deviation\n",
                "    return std\n",
                "print(estandardev(xs))\n",
                "\n"
            ]
        }
    ],
    "metadata": {
        "interpreter": {
            "hash": "9248718ffe6ce6938b217e69dbcc175ea21f4c6b28a317e96c05334edae734bb"
        },
        "kernelspec": {
            "display_name": "Python 3.9.12 ('ML-BOOTCAMP')",
            "language": "python",
            "name": "python3"
        },
        "language_info": {
            "codemirror_mode": {
                "name": "ipython",
                "version": 3
            },
            "file_extension": ".py",
            "mimetype": "text/x-python",
            "name": "python",
            "nbconvert_exporter": "python",
            "pygments_lexer": "ipython3",
            "version": "3.11.4"
        }
    },
    "nbformat": 4,
    "nbformat_minor": 5
}
